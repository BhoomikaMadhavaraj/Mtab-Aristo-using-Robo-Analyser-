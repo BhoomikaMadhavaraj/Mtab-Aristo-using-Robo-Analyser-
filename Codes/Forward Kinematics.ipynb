{
 "cells": [
  {
   "cell_type": "code",
   "execution_count": 1,
   "metadata": {},
   "outputs": [],
   "source": [
    "import numpy as np\n",
    "import math"
   ]
  },
  {
   "cell_type": "code",
   "execution_count": 2,
   "metadata": {},
   "outputs": [],
   "source": [
    "class Robot_Kinematics_FK:\n",
    "    def Forward_Kinematics(self,Num_of_Arms):   \n",
    "        DH = np.zeros((Num_of_Arms,4),dtype='i')\n",
    "        HTM = np.zeros((4,4),dtype='i')\n",
    "        HTM_List = []\n",
    "        TTM = np.eye(4, dtype='i')\n",
    "        for i in range(Num_of_Arms):\n",
    "            print(\"\\nArm \",i+1)\n",
    "            DH[i,0],DH[i,1],DH[i,2],DH[i,3] = map(int, input(\"Enter a,Alpha,Theta,d value: \").split(\",\"))\n",
    "            HTM = np.array([[math.cos(DH[i,3]),-math.sin(DH[i,3])*math.cos(DH[i,1]), math.sin(DH[i,3])*math.sin(DH[i,1]), DH[i,0]*math.cos(DH[i,3])],\n",
    "                            [math.sin(DH[i,3]), math.cos(DH[i,3])*math.cos(DH[i,1]), -math.cos(DH[i,3])*math.sin(DH[i,1]), DH[i,0]*math.sin(DH[i,3])],\n",
    "                            [0, math.sin(DH[i,1]), math.cos(DH[i,1]), DH[i,2]],\n",
    "                            [0, 0, 0, 1]])\n",
    "            HTM_List.append(HTM)\n",
    "            TTM = np.matmul(TTM,HTM)\n",
    "            print(TTM)\n",
    "        # Homogenous Transformation Matrix\n",
    "        print('\\nHomogenous Transformation Matrix:')\n",
    "        print(TTM)\n",
    "        \n",
    "        # Rotation Part\n",
    "        R=TTM[0:3,0:3] \n",
    "        print(\"\\nRotational Part: \\n\",R)\n",
    "        \n",
    "        # Translation Part\n",
    "        d = TTM[0:3,3]\n",
    "        d1 = d.T\n",
    "        print(\"\\nTranslation Part: \\n\",d1)\n",
    "        \n",
    "        # Base coordinates\n",
    "        Base = np.array([0,0,0,1])\n",
    "        Base[0],Base[1],Base[2] = map(int, input(\"\\nEnter X,Y,Z :\").split(\",\"))\n",
    "        \n",
    "        # Inverse of Transformation Matrix\n",
    "        TTM_I = np.linalg.inv(TTM) \n",
    "        end_effector = TTM_I@Base \n",
    "        \n",
    "        # End-effector coordinates\n",
    "        end_effector_pos = end_effector[0:3] \n",
    "        print('\\nPosition of end-effector:\\n',end_effector_pos)"
   ]
  },
  {
   "cell_type": "code",
   "execution_count": null,
   "metadata": {},
   "outputs": [
    {
     "name": "stdout",
     "output_type": "stream",
     "text": [
      "\n",
      "Arm  1\n",
      "Enter a,Alpha,Theta,d value: 1,2,3,4\n",
      "[[-0.65364362 -0.31494096 -0.68815856 -0.65364362]\n",
      " [-0.7568025   0.27201173  0.59435646 -0.7568025 ]\n",
      " [ 0.          0.90929743 -0.41614684  3.        ]\n",
      " [ 0.          0.          0.          1.        ]]\n",
      "\n",
      "Arm  2\n"
     ]
    }
   ],
   "source": [
    "def main():\n",
    "    Num_of_Arms = 6\n",
    "    obj = Robot_Kinematics_FK()\n",
    "    obj.Forward_Kinematics(Num_of_Arms)\n",
    "if __name__ == '__main__':\n",
    "    main()"
   ]
  },
  {
   "cell_type": "code",
   "execution_count": null,
   "metadata": {},
   "outputs": [],
   "source": []
  }
 ],
 "metadata": {
  "kernelspec": {
   "display_name": "Python 3",
   "language": "python",
   "name": "python3"
  },
  "language_info": {
   "codemirror_mode": {
    "name": "ipython",
    "version": 3
   },
   "file_extension": ".py",
   "mimetype": "text/x-python",
   "name": "python",
   "nbconvert_exporter": "python",
   "pygments_lexer": "ipython3",
   "version": "3.8.5"
  }
 },
 "nbformat": 4,
 "nbformat_minor": 5
}
