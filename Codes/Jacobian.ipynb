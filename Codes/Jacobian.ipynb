{
 "cells": [
  {
   "cell_type": "code",
   "execution_count": 2,
   "metadata": {},
   "outputs": [],
   "source": [
    "import numpy as np"
   ]
  },
  {
   "cell_type": "code",
   "execution_count": 3,
   "metadata": {},
   "outputs": [],
   "source": [
    "def FK(DH_Paramters):  \n",
    "    DH = DH_Paramters\n",
    "    HTM = np.zeros((4,4),dtype='i')\n",
    "    HTM_List = []\n",
    "    TTM = np.eye(4, dtype='i')\n",
    "    Z = []\n",
    "    Z.append(np.array([0,0,1]))\n",
    "    t = []\n",
    "    t.append(np.array([0,0,0]))\n",
    "    for i in range(DH_Paramters.shape[0]):              \n",
    "        HTM = np.array([[np.cos(DH[i,3]),-np.sin(DH[i,3])*np.cos(DH[i,1]), np.sin(DH[i,3])*np.sin(DH[i,1]), DH[i,0]*np.cos(DH[i,3])],\n",
    "        [np.sin(DH[i,3]), np.cos(DH[i,3])*np.cos(DH[i,1]), -np.cos(DH[i,3])*np.sin(DH[i,1]), DH[i,0]*np.sin(DH[i,3])],\n",
    "        [0, np.sin(DH[i,1]), np.cos(DH[i,1]), DH[i,2]],\n",
    "        [0, 0, 0, 1]])\n",
    "        HTM_List.append(HTM)\n",
    "        TTM = np.matmul(TTM,HTM)\n",
    "        Z.append(TTM[0:3,-2])\n",
    "        t.append(TTM[0:3,-1])\n",
    "    return TTM, Z, t\n"
   ]
  },
  {
   "cell_type": "code",
   "execution_count": 4,
   "metadata": {},
   "outputs": [],
   "source": [
    "def Jacobian(dhParameters):\n",
    "    Forward_Kinematics = FK(dhParameters)\n",
    "    Z = Forward_Kinematics[1]\n",
    "    t = Forward_Kinematics[2]\n",
    "    J_v = []\n",
    "    J_w = []\n",
    "    for i in range(dhParameters.shape[0]):\n",
    "        temp = Z[i]*(t[6]-t[i])\n",
    "        J_v.append(temp)\n",
    "    for j in range(dhParameters.shape[0]):\n",
    "        J_w.append(Z[j])\n",
    "    a_temp = np.zeros((6,1))\n",
    "    for u in range(6):\n",
    "        a = np.concatenate((J_v[u],J_w[u])).reshape(6,1)\n",
    "        a_temp = np.concatenate((a_temp,a),axis = 1)\n",
    "    Jacobian_matrix = a_temp[:,1::]\n",
    "    return Jacobian_matrix"
   ]
  },
  {
   "cell_type": "code",
   "execution_count": 5,
   "metadata": {},
   "outputs": [
    {
     "data": {
      "text/plain": [
       "array([[1, 2, 3, 4],\n",
       "       [1, 1, 1, 1],\n",
       "       [2, 2, 2, 2],\n",
       "       [3, 3, 3, 3],\n",
       "       [4, 4, 4, 4],\n",
       "       [5, 5, 5, 5]])"
      ]
     },
     "execution_count": 5,
     "metadata": {},
     "output_type": "execute_result"
    }
   ],
   "source": [
    "a = np.array([1,1,2,3,4,5])\n",
    "d = np.array([2,1,2,3,4,5])\n",
    "alpha = np.array([3,1,2,3,4,5])\n",
    "q_offset = np.array([4,1,2,3,4,5])\n",
    "dh_paras = np.array([a,d,alpha,q_offset]).T\n",
    "dh_paras"
   ]
  },
  {
   "cell_type": "code",
   "execution_count": 6,
   "metadata": {},
   "outputs": [
    {
     "name": "stdout",
     "output_type": "stream",
     "text": [
      "Jacobian Matrix: \n",
      " [[ 0.         -3.58134347 -4.50176482 -2.94013137  2.1388401   1.6057675 ]\n",
      " [-0.         -1.79591158  1.16275799 -1.56697303  0.98175977  1.14738085]\n",
      " [ 3.56003347 -0.23305616 -0.13469302  1.97357176  1.23976344  2.24685165]\n",
      " [ 0.         -0.68815856 -0.69145383 -0.36483398  0.22997227  0.30240432]\n",
      " [ 0.          0.59435646 -0.33840934  0.34148913 -0.35001462 -0.28974152]\n",
      " [ 1.         -0.41614684 -0.638256    0.86618782 -0.90807628  0.9080757 ]]\n"
     ]
    }
   ],
   "source": [
    "# Jacobian Matrix\n",
    "J = Jacobian(dh_paras)\n",
    "print('Jacobian Matrix: \\n',J)"
   ]
  },
  {
   "cell_type": "code",
   "execution_count": 7,
   "metadata": {},
   "outputs": [
    {
     "data": {
      "text/plain": [
       "-0.23759425349691318"
      ]
     },
     "execution_count": 7,
     "metadata": {},
     "output_type": "execute_result"
    }
   ],
   "source": [
    "# Determinant of the Jacobian\n",
    "np.linalg.det(J)"
   ]
  },
  {
   "cell_type": "code",
   "execution_count": null,
   "metadata": {},
   "outputs": [],
   "source": []
  }
 ],
 "metadata": {
  "kernelspec": {
   "display_name": "Python 3",
   "language": "python",
   "name": "python3"
  },
  "language_info": {
   "codemirror_mode": {
    "name": "ipython",
    "version": 3
   },
   "file_extension": ".py",
   "mimetype": "text/x-python",
   "name": "python",
   "nbconvert_exporter": "python",
   "pygments_lexer": "ipython3",
   "version": "3.8.5"
  }
 },
 "nbformat": 4,
 "nbformat_minor": 4
}
